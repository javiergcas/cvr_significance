{
 "cells": [
  {
   "cell_type": "code",
   "execution_count": 4,
   "id": "c7887bf0-4f41-4365-b3be-24837eb91dfc",
   "metadata": {},
   "outputs": [],
   "source": [
    "from brainsmash.mapgen.eval import sampled_fit\n",
    "import os.path as osp"
   ]
  },
  {
   "cell_type": "code",
   "execution_count": 5,
   "id": "e77a4deb-c7fa-4c3d-a84b-05c30d2bc9d9",
   "metadata": {},
   "outputs": [],
   "source": [
    "x = '/data/SFIMJGC_HCP7T/2025_BCBL_VisitNIH/data/prcs_data/sub-001/sub-001_ants_transformed-MNI_REST-ICs.2p5mm_iso.comp_0.txt'\n",
    "filenames = {}\n",
    "filenames['D']     = osp.join('/data/SFIMJGC_HCP7T/2025_BCBL_VisitNIH/data/prcs_data/sub-001/burton2020/distmat.npy')\n",
    "filenames['index'] = osp.join('/data/SFIMJGC_HCP7T/2025_BCBL_VisitNIH/data/prcs_data/sub-001/burton2020/index.npy')"
   ]
  },
  {
   "cell_type": "code",
   "execution_count": 6,
   "id": "8b1ec674-f896-4176-971f-97e6b5f5a558",
   "metadata": {},
   "outputs": [],
   "source": [
    "kwargs = {'ns': 500,\n",
    "          'knn': 1500,\n",
    "          'pv': 70\n",
    "          }"
   ]
  },
  {
   "cell_type": "code",
   "execution_count": null,
   "id": "792d96dc-a9ed-4902-bd60-95d66abe6a12",
   "metadata": {},
   "outputs": [],
   "source": [
    "sampled_fit(x, filenames['D'], filenames['index'], nsurr=10000, **kwargs)"
   ]
  },
  {
   "cell_type": "code",
   "execution_count": null,
   "id": "953ec317-13ba-4e8f-acb1-c55982ef028b",
   "metadata": {},
   "outputs": [],
   "source": []
  }
 ],
 "metadata": {
  "jupytext": {
   "formats": "ipynb,auto:light"
  },
  "kernelspec": {
   "display_name": "BCBL Visit (March 2025)",
   "language": "python",
   "name": "bcbl_visit"
  },
  "language_info": {
   "codemirror_mode": {
    "name": "ipython",
    "version": 3
   },
   "file_extension": ".py",
   "mimetype": "text/x-python",
   "name": "python",
   "nbconvert_exporter": "python",
   "pygments_lexer": "ipython3",
   "version": "3.12.9"
  }
 },
 "nbformat": 4,
 "nbformat_minor": 5
}
