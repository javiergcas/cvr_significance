{
 "cells": [
  {
   "cell_type": "markdown",
   "id": "8a4587e0-47b1-4e2a-b484-e405f9d346b5",
   "metadata": {},
   "source": [
    "# Description\n",
    "\n",
    "This notebook shows how to convert a surrogate map in txt file into a nifti file we can open in AFNI"
   ]
  },
  {
   "cell_type": "code",
   "execution_count": 11,
   "id": "5f427baf-61fb-46ee-8f23-5a3ab431de34",
   "metadata": {},
   "outputs": [],
   "source": [
    "import numpy as np"
   ]
  },
  {
   "cell_type": "code",
   "execution_count": 1,
   "id": "f9d31778-7643-4ba8-a86b-ac5aed7ae3ea",
   "metadata": {},
   "outputs": [],
   "source": [
    "surr_path = '/data/SFIMJGC_HCP7T/2025_BCBL_VisitNIH/data/prcs_data/sub-008/burton2020/sub-008_ants_transformed-MNI_REST-ICs.2p5mm_iso.comp_0.surrogate_maps.npy'"
   ]
  },
  {
   "cell_type": "code",
   "execution_count": 13,
   "id": "a4139790-1c30-4667-b712-185ca0e6c74d",
   "metadata": {},
   "outputs": [
    {
     "name": "stdout",
     "output_type": "stream",
     "text": [
      "(82570, 10000)\n"
     ]
    }
   ],
   "source": [
    "surr_data = np.load(surr_path)\n",
    "print(surr_data.shape)"
   ]
  },
  {
   "cell_type": "code",
   "execution_count": 14,
   "id": "ded6c4c0-f0c0-4563-9058-2ae04c27f5b0",
   "metadata": {},
   "outputs": [],
   "source": [
    "np.savetxt('./a.txt',surr_data[:,0])"
   ]
  },
  {
   "cell_type": "markdown",
   "id": "037c8cd3-bd8c-4920-a83c-9ded1e20df32",
   "metadata": {},
   "source": [
    "Then, you can regenerate the map for this particular surrogate as follows:\n",
    "\n",
    "```bash\n",
    "cd /data/SFIMJGC_HCP7T/2025_BCBL_VisitNIH/data/prcs_data/sub-008\n",
    "paste ./sub-008_GMmask.2p5mm_iso.xyz.txt ../../../code/notebooks/a.txt > ./input.txt\n",
    "3dUndump -overwrite -orient RAI -prefix test.nii -xyz -master sub-008_GMmask.2p5mm_iso.nii.gz input.txt\n",
    "```"
   ]
  },
  {
   "cell_type": "code",
   "execution_count": null,
   "id": "f0f45695-94a9-47d3-8a2b-d97631315900",
   "metadata": {},
   "outputs": [],
   "source": []
  }
 ],
 "metadata": {
  "jupytext": {
   "formats": "ipynb,auto:light"
  },
  "kernelspec": {
   "display_name": "BCBL Visit (March 2025)",
   "language": "python",
   "name": "bcbl_visit"
  },
  "language_info": {
   "codemirror_mode": {
    "name": "ipython",
    "version": 3
   },
   "file_extension": ".py",
   "mimetype": "text/x-python",
   "name": "python",
   "nbconvert_exporter": "python",
   "pygments_lexer": "ipython3",
   "version": "3.12.9"
  }
 },
 "nbformat": 4,
 "nbformat_minor": 5
}
